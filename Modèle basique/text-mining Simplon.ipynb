{
 "cells": [
  {
   "cell_type": "code",
   "execution_count": null,
   "metadata": {},
   "outputs": [],
   "source": [
    "import requests\n",
    "import lxml.html as lh\n",
    "import pandas as pd\n",
    "import csv\n",
    " \n",
    "url = 'https://auvergnerhonealpes.simplon.co/candidatures.html'\n",
    "uri_pages = '?page='\n",
    "nbPages = 400\n",
    "tags = ['//h2[@class=\"card-title\"]', \\\n",
    "        '//div[@class=\"card-content\"]', \\\n",
    "        '//span[@class=\"day\"]', \\\n",
    "        '//span[@class=\"month\"]', \\\n",
    "        '//div[@class=\"year\"]', \\\n",
    "        '//div[@class=\"card-session-info calendar\"]', \\\n",
    "        '//div[@class=\"card-session-infos\"]', \\\n",
    "        \n",
    "       ]\n",
    "\n",
    "cols = ['Nom', 'Lieu', 'Jour', 'Mois', 'Annee', 'Debut', 'Information']\n",
    " \n",
    "page = requests.get(url)\n",
    "doc = lh.fromstring(page.content)\n",
    " \n",
    "def getPage(url):\n",
    "    page = requests.get(url)\n",
    "    doc = lh.fromstring(page.content)\n",
    " \n",
    "    # Get the Web data via XPath\n",
    "    content = []\n",
    "    for i in range(len(tags)):\n",
    "        content.append(doc.xpath(tags[i]))\n",
    " \n",
    "    # Gather the data into a Pandas DataFrame array\n",
    "    df_liste = []\n",
    "    for j in range(len(tags)):\n",
    "        tmp = pd.DataFrame([content[j][i].text_content().strip() for i in range(len(content[i]))], columns=[cols[j]])\n",
    "        tmp['key'] = tmp.index\n",
    "        df_liste.append(tmp)\n",
    " \n",
    "    # Build the unique Dataframe with one tag (xpath) content per column\n",
    "    liste = df_liste[0]\n",
    "    for j in range(len(tags)-1):\n",
    "        liste = liste.join(df_liste[j+1], on='key', how='left', lsuffix='_l', rsuffix='_r')\n",
    "        liste['key'] = liste.index\n",
    "        del liste['key_l']\n",
    "        del liste['key_r']\n",
    "     \n",
    "    return liste\n",
    " \n",
    "def getPages(_nbPages, _url):\n",
    "    liste_finale = pd.DataFrame()\n",
    "    for i in range (_nbPages):\n",
    "        liste = getPage(_url + uri_pages + str(i+1))\n",
    "        liste_finale = pd.concat([liste_finale, liste], ignore_index=True)\n",
    "    return liste_finale\n",
    " \n",
    "liste_totale = getPages(nbPages, url)\n"
   ]
  },
  {
   "cell_type": "code",
   "execution_count": null,
   "metadata": {},
   "outputs": [],
   "source": [
    "liste_totale"
   ]
  },
  {
   "cell_type": "code",
   "execution_count": null,
   "metadata": {},
   "outputs": [],
   "source": [
    "liste_totale['Debut']"
   ]
  },
  {
   "cell_type": "code",
   "execution_count": null,
   "metadata": {},
   "outputs": [],
   "source": [
    "liste_totale['Debut'] = liste_totale['Debut'].replace({'event':''}, regex= True)"
   ]
  },
  {
   "cell_type": "code",
   "execution_count": null,
   "metadata": {},
   "outputs": [],
   "source": [
    "liste_totale['Debut'] = liste_totale['Debut'].replace({'\\n':''}, regex= True)\n",
    "liste_totale['Debut'] = liste_totale['Debut'].replace({'Début':''}, regex= True)\n",
    "liste_totale['Debut'] = liste_totale['Debut'].replace({':':''}, regex= True)"
   ]
  },
  {
   "cell_type": "code",
   "execution_count": null,
   "metadata": {},
   "outputs": [],
   "source": [
    "liste_totale"
   ]
  },
  {
   "cell_type": "code",
   "execution_count": null,
   "metadata": {},
   "outputs": [],
   "source": [
    "liste_totale['Information'] = liste_totale['Information'].replace({'event':''}, regex= True)\n",
    "liste_totale['Information'] = liste_totale['Information'].replace({'\\n':''}, regex= True)\n",
    "liste_totale['Information'] = liste_totale['Information'].replace({'Début':''}, regex= True)\n",
    "liste_totale['Information'] = liste_totale['Information'].replace({':':''}, regex= True)"
   ]
  },
  {
   "cell_type": "code",
   "execution_count": null,
   "metadata": {},
   "outputs": [],
   "source": [
    "liste_totale"
   ]
  },
  {
   "cell_type": "code",
   "execution_count": null,
   "metadata": {},
   "outputs": [],
   "source": [
    "df = liste_totale.copy()\n",
    "df[\"duree1\"] = df[\"Information\"].str.split().str[3]\n",
    "df[\"duree2\"] = df[\"Information\"].str.split().str[4]\n",
    "df[\"duree3\"] = df[\"Information\"].str.split().str[5]\n",
    "df[\"duree4\"] = df[\"Information\"].str.split().str[6]"
   ]
  },
  {
   "cell_type": "code",
   "execution_count": null,
   "metadata": {},
   "outputs": [],
   "source": [
    "df[\"Localisation\"] = df[\"Information\"].str.split().str[8]"
   ]
  },
  {
   "cell_type": "code",
   "execution_count": null,
   "metadata": {},
   "outputs": [],
   "source": [
    "df = df.drop('Information', axis=1)"
   ]
  },
  {
   "cell_type": "code",
   "execution_count": null,
   "metadata": {},
   "outputs": [],
   "source": [
    "df['Duree'] = df['duree1'] + ' ' + df['duree2'] + ' ' + df['duree3'] + ' ' + df['duree4']"
   ]
  },
  {
   "cell_type": "code",
   "execution_count": null,
   "metadata": {},
   "outputs": [],
   "source": [
    "df = df.drop(['duree1', 'duree2', 'duree3', 'duree4',], axis=1)"
   ]
  },
  {
   "cell_type": "code",
   "execution_count": null,
   "metadata": {},
   "outputs": [],
   "source": [
    "df['datelimite'] = df['Jour'] + '-' + df['Mois'] + '-' + df['Annee']"
   ]
  },
  {
   "cell_type": "code",
   "execution_count": null,
   "metadata": {},
   "outputs": [],
   "source": [
    "df = df.drop(['Jour', 'Mois', 'Annee'], axis=1)"
   ]
  },
  {
   "cell_type": "code",
   "execution_count": null,
   "metadata": {},
   "outputs": [],
   "source": [
    "pd.set_option('display.max_rows', 56)"
   ]
  },
  {
   "cell_type": "code",
   "execution_count": null,
   "metadata": {},
   "outputs": [],
   "source": [
    "df = df.head(57)"
   ]
  },
  {
   "cell_type": "code",
   "execution_count": null,
   "metadata": {},
   "outputs": [],
   "source": [
    "df"
   ]
  },
  {
   "cell_type": "code",
   "execution_count": null,
   "metadata": {},
   "outputs": [],
   "source": [
    "df.to_csv('formation_simplon.csv', index=False, quoting=csv.QUOTE_NONNUMERIC)"
   ]
  },
  {
   "cell_type": "code",
   "execution_count": null,
   "metadata": {},
   "outputs": [],
   "source": []
  }
 ],
 "metadata": {
  "kernelspec": {
   "display_name": "Python 3",
   "language": "python",
   "name": "python3"
  },
  "language_info": {
   "codemirror_mode": {
    "name": "ipython",
    "version": 3
   },
   "file_extension": ".py",
   "mimetype": "text/x-python",
   "name": "python",
   "nbconvert_exporter": "python",
   "pygments_lexer": "ipython3",
   "version": "3.7.6"
  },
  "toc": {
   "base_numbering": 1,
   "nav_menu": {},
   "number_sections": true,
   "sideBar": true,
   "skip_h1_title": false,
   "title_cell": "Table of Contents",
   "title_sidebar": "Contents",
   "toc_cell": false,
   "toc_position": {},
   "toc_section_display": true,
   "toc_window_display": false
  }
 },
 "nbformat": 4,
 "nbformat_minor": 4
}
