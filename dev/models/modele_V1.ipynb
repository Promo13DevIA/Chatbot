{
 "cells": [
  {
   "cell_type": "markdown",
   "metadata": {
    "id": "b-CuW-K0DA0G"
   },
   "source": [
    "# Initiation du modèle pourri à améliorer pour E2"
   ]
  },
  {
   "cell_type": "code",
   "execution_count": null,
   "metadata": {
    "colab": {
     "base_uri": "https://localhost:8080/"
    },
    "id": "aB9s9CEFHTC9",
    "outputId": "528fef2e-2e01-44ae-9ade-bc05ec928817"
   },
   "outputs": [],
   "source": [
    "!pip install -U spacy"
   ]
  },
  {
   "cell_type": "code",
   "execution_count": null,
   "metadata": {
    "colab": {
     "base_uri": "https://localhost:8080/"
    },
    "id": "fgCj1LSM0kaK",
    "outputId": "7f1ebe6d-1f8d-4a6e-b6d7-dc9073eb21e7"
   },
   "outputs": [],
   "source": [
    "!python -m spacy download fr_core_news_lg"
   ]
  },
  {
   "cell_type": "code",
   "execution_count": null,
   "metadata": {
    "colab": {
     "base_uri": "https://localhost:8080/"
    },
    "id": "g6WiWVvADE1x",
    "outputId": "faee03c6-9fa7-46d5-9e1c-1dfbd5464058"
   },
   "outputs": [],
   "source": [
    "from google.colab import drive\n",
    "drive.mount('/content/drive')"
   ]
  },
  {
   "cell_type": "markdown",
   "metadata": {
    "id": "2SGh9EqRDA0s"
   },
   "source": [
    "# Imports"
   ]
  },
  {
   "cell_type": "code",
   "execution_count": null,
   "metadata": {
    "colab": {
     "base_uri": "https://localhost:8080/"
    },
    "id": "JIRpJ0loDA0t",
    "outputId": "5ba5eafd-24cb-4c09-e40b-8409d33eefed"
   },
   "outputs": [],
   "source": [
    "import numpy as np # Calculs matriciels\n",
    "import pandas as pd\n",
    "\n",
    "import nltk \n",
    "from nltk.stem import WordNetLemmatizer\n",
    "lemmatizer = WordNetLemmatizer() \n",
    "nltk.download('wordnet')\n",
    "nltk.download('punkt')\n",
    "# lemmatizer pour récupérer les racines des mots\n",
    "import json # pour obtenir des fonctions sur des objets JSON\n",
    "import pickle # Sauvegarder un objet python\n",
    "\n",
    "from tensorflow.keras.models import Sequential\n",
    "from tensorflow.keras.layers import Dense, Activation, Dropout # Éléments pour un réseau de neurones \n",
    "from tensorflow.keras.optimizers import SGD # Stochastic gradient descent il sera accéléré avec Nesterov = True\n",
    "\n",
    "import spacy\n",
    "\n",
    "import random"
   ]
  },
  {
   "cell_type": "markdown",
   "metadata": {
    "id": "vnYXkz6sDA0u"
   },
   "source": [
    "# Initialisation de mes listes "
   ]
  },
  {
   "cell_type": "code",
   "execution_count": null,
   "metadata": {
    "id": "CEv5cK2XDA0v"
   },
   "outputs": [],
   "source": [
    "words=[] # Liste des mots\n",
    "classes = [] # Liste des classes\n",
    "documents = [] # Liste des patterns + tag associé\n",
    "ignore_words = ['?', '!'] # Liste des mots à ignorer"
   ]
  },
  {
   "cell_type": "markdown",
   "metadata": {
    "id": "9EnUKfddDA0v"
   },
   "source": [
    "# Import du fichier json\n",
    "C'est à partir de ça qu'on va créer la personnalité de notre chatbot"
   ]
  },
  {
   "cell_type": "code",
   "execution_count": null,
   "metadata": {
    "id": "KY8DfE15DA0w"
   },
   "outputs": [],
   "source": [
    "data_file = open('/content/drive/Shareddrives/P#13_Dev IA - Ecole IA Microsoft (DRIVE APPRENANTS)/P#13_ALTERNANCE/ChatBot Simplon C14/intents.json').read()"
   ]
  },
  {
   "cell_type": "code",
   "execution_count": null,
   "metadata": {
    "id": "mnxx6k-3DA0w"
   },
   "outputs": [],
   "source": [
    "intents = json.loads(data_file) \n",
    "# récupération du fichier d'intents avec des patterns, leur tag correspondant et les \n",
    "# réponses qui leur correspondent"
   ]
  },
  {
   "cell_type": "markdown",
   "metadata": {
    "id": "vFOvJ1PqDA0x"
   },
   "source": [
    "<a id=\"json\"></a>\n",
    "# Découverte des éléments"
   ]
  },
  {
   "cell_type": "code",
   "execution_count": null,
   "metadata": {
    "colab": {
     "base_uri": "https://localhost:8080/"
    },
    "id": "_ilNUq7wDA0x",
    "outputId": "f9a9b499-9e73-46df-9a60-3ac820266e26",
    "scrolled": true
   },
   "outputs": [],
   "source": [
    "intents.values() # Aperçu du melf intents.json"
   ]
  },
  {
   "cell_type": "markdown",
   "metadata": {
    "id": "z0UG6YJbDA02"
   },
   "source": [
    "# Remplissage des dossiers de travail\n",
    "`words`, `documents` et `classes`"
   ]
  },
  {
   "cell_type": "code",
   "execution_count": null,
   "metadata": {
    "id": "nohlbUpbDA02"
   },
   "outputs": [],
   "source": [
    "for intent in intents['intents']: # pour chaque intent du fichier intents.json\n",
    "    for pattern in intent['patterns']: # pour chaque pattern de chaque intent du fichier\n",
    "                                        # intents.json\n",
    "\n",
    "        #tokenize each word\n",
    "        w = nltk.word_tokenize(pattern) # par exemple \"Hello there\" = [\"hello\", \"there\"]\n",
    "        words.extend(w) # Cela ajoute chaque mot tokenizé du pattern w à la liste `words`\n",
    "        #add documents in the corpus\n",
    "        documents.append((w, intent['tag'])) # Le couple w et tag sont ajoutés à la liste documents\n",
    "        # docs[] = [[\"hello\", \"there\"],'greetings']\n",
    "        # add to our classes list\n",
    "        if intent['tag'] not in classes: # Si le tag n'existe pas déjà, \n",
    "            classes.append(intent['tag']) # il est ajouté à la liste des tags"
   ]
  },
  {
   "cell_type": "code",
   "execution_count": null,
   "metadata": {
    "colab": {
     "base_uri": "https://localhost:8080/"
    },
    "id": "vDHIpM6TDA04",
    "outputId": "29ca854e-8e6c-4643-e5fb-f038cf058f9b",
    "scrolled": true
   },
   "outputs": [],
   "source": [
    "documents"
   ]
  },
  {
   "cell_type": "code",
   "execution_count": null,
   "metadata": {
    "id": "-vFSkGYqDA07"
   },
   "outputs": [],
   "source": [
    "# Je vais réutiliser ce code donc je fais une fonction:\n",
    "def display_words(display = 30):\n",
    "    print(f\"les {display} premiers mots sont {words[:display]}\")"
   ]
  },
  {
   "cell_type": "code",
   "execution_count": null,
   "metadata": {
    "id": "Kwwcep2vDA08"
   },
   "outputs": [],
   "source": [
    "# lemmaztize and lower each word and remove duplicates\n",
    "# ça c'est une boucle compactée c'est équivalent à :\n",
    "# for w in words: ## pour chaque mot de la liste words\n",
    "#     if w not in ignore_words: ## si le mot n'est pas dans la liste des mots à ignorer 'ignore_words'\n",
    "#        w = lemmatizer.lemmatize(w.lower()) # on prend la racine du mot sans majuscule\n",
    "#        words.append(w) ## on ajout w dans la liste de mots 'words'\n",
    "words = [lemmatizer.lemmatize(w.lower()) for w in words if w not in ignore_words]"
   ]
  },
  {
   "cell_type": "code",
   "execution_count": null,
   "metadata": {
    "colab": {
     "base_uri": "https://localhost:8080/"
    },
    "id": "9gYvParqDA1D",
    "outputId": "d0db5dc8-8588-4115-bae1-5f6050b31c23"
   },
   "outputs": [],
   "source": [
    "words = sorted(list(set(words))) # Classement des mots dans l'ordre alphabétiques sans doublons\n",
    "display_words()"
   ]
  },
  {
   "cell_type": "code",
   "execution_count": null,
   "metadata": {
    "colab": {
     "base_uri": "https://localhost:8080/"
    },
    "id": "xxarHnc6DA1E",
    "outputId": "97f8bcb5-1aa9-44aa-a78c-48cf2e507898"
   },
   "outputs": [],
   "source": [
    "# On crée le bag of word\n",
    "# sort/tri classes\n",
    "classes = sorted(list(set(classes)))\n",
    "# documents = combination between patterns and intents\n",
    "print (f\"Il y a {len(documents)} documents.\\n\")\n",
    "# classes = intents\n",
    "print (f\"Il y a {len(classes)} classes. \\ncomposées de:\\n {classes}\\n\")\n",
    "# words = all words, vocabulary\n",
    "print (f\"Il y a {len(words)} mots lemmatisés sans doublons. \\ncomposés de :\\n {words}\\n\")"
   ]
  },
  {
   "cell_type": "code",
   "execution_count": null,
   "metadata": {
    "id": "qOqR9HuaDA1F"
   },
   "outputs": [],
   "source": [
    "# On exporte les dictionnaires\n",
    "pickle.dump(words,open('words.pkl','wb'))\n",
    "pickle.dump(classes,open('classes.pkl','wb'))"
   ]
  },
  {
   "cell_type": "code",
   "execution_count": null,
   "metadata": {
    "colab": {
     "base_uri": "https://localhost:8080/"
    },
    "id": "oFK1YeWwhjh7",
    "outputId": "5385739d-9a96-4934-baf9-dc344d195b7c"
   },
   "outputs": [],
   "source": [
    "[lemmatizer.lemmatize(word.lower()) for word in documents[0][0] if word not in ignore_words]"
   ]
  },
  {
   "cell_type": "markdown",
   "metadata": {
    "id": "zI2gfx0XKrj6"
   },
   "source": [
    "# Modélisation"
   ]
  },
  {
   "cell_type": "code",
   "execution_count": null,
   "metadata": {
    "colab": {
     "base_uri": "https://localhost:8080/"
    },
    "id": "s7LRTTNcxvSH",
    "outputId": "c7897363-c972-434d-cccd-34d4613b5a1c"
   },
   "outputs": [],
   "source": [
    "len(words)\n",
    "len(classes)"
   ]
  },
  {
   "cell_type": "code",
   "execution_count": null,
   "metadata": {
    "colab": {
     "base_uri": "https://localhost:8080/",
     "height": 35
    },
    "id": "oqS95S1HyGK_",
    "outputId": "a6a01181-cfa7-4565-a4a9-70a3f196972a"
   },
   "outputs": [],
   "source": [
    "documents[0][1]"
   ]
  },
  {
   "cell_type": "code",
   "execution_count": null,
   "metadata": {
    "colab": {
     "base_uri": "https://localhost:8080/"
    },
    "id": "ORqSmx-HDA1L",
    "outputId": "a95bd5d4-f757-4c71-f263-583cc85d70e1"
   },
   "outputs": [],
   "source": [
    "# create our training data\n",
    "training = [] # Ce sera la liste de données d'entraînement\n",
    "# create an empty array for our output\n",
    "output_empty = [0] * len(classes) # -> [0, 0, 0, 0, 0, 0, 0, 0, 0] \n",
    "                                # matrice qui identifiera le tag avec un nombre '1'\n",
    "# training set, bag of words for each sentence\n",
    "for doc in documents: # pour chaque association pattern + tag dans la liste \n",
    "                        # documents\n",
    "    # un doc ressemble à : [['hi', 'there'], 'greeting']\n",
    "                            # pattern , tag\n",
    "                            # partie 0 , partie 1\n",
    "                            # pattern , tag\n",
    "    \n",
    "    # list of tokenized words for the pattern\n",
    "    pattern_words = doc[0] # récupération de la partie pattern d'un élément\n",
    "                            # de la liste documents\n",
    "    # lemmatize each word - create base word, in attempt to represent related words\n",
    "    # chaque mot du pattern est mis en minuscule et on ne prend que la racine\n",
    "    pattern_words = [lemmatizer.lemmatize(word.lower()) for word in pattern_words]\n",
    "\n",
    "    # create our bag of words array with 1, if word match found in current pattern    \n",
    "     # INITIALISE LE SAC DE MOTS\n",
    "    bag = [] # sac de mots ce sera un vecteur avec un 1 pour chaque mot \n",
    "    #présent dans le pattern à la position du mots dans words. \n",
    "    # Donc à la fin on aura un vecteur de 88 chiffres.\n",
    "    \n",
    "    # REMPLISSAGE DU SAC DE MOT\n",
    "    # On va comparer les mots de du pattern avec les mots de 'words'\n",
    "    for w in words: # Pour chaque mot de la liste 'words'\n",
    "        # La ligne qui suit est équivalente à :\n",
    "        # if w in pattern_words: ## Si le mot du pattern est dans 'words'\n",
    "        #    bag.append(1) ## on ajoute 1 à bag\n",
    "        # else:            ## sinon\n",
    "        #    bag.append(0) ## on ajoute un 0\n",
    "        bag.append(1) if w in pattern_words else bag.append(0) \n",
    "        # Comme il y a 88 mots dans le dictionnaire,\n",
    "        # on obtient une matrice de 88 '0' et '1' avec un '1' à la position\n",
    "        # de chaque mot présent.\n",
    "        # Par exemple si 'hello' et 'there' ont la position 1 et 2 dans 'words'\n",
    "        #  on obtient le vecteur [1,1,0,0,...,0] un \n",
    "    \n",
    "    # output is a '0' for each tag and '1' for current tag (for each pattern)\n",
    "    # on est toujours dans la boucle doc in documents donc on repart d'un\n",
    "    # vecteur vierge pour vectoriser le tag (doc[1]) (rappel la forme de doc)\n",
    "    output_row = list(output_empty) \n",
    "    output_row[classes.index(doc[1])] = 1\n",
    "    \n",
    "    training.append([bag, output_row]) \n",
    "    # le doc vectorisé est ajouté au training\n",
    "    # par exemple [[1,1,0,0,..,0,0][1, 0, 0, 0, 0, 0, 0, 0, 0]]\n",
    "# shuffle our features and turn into np.array\n",
    "random.shuffle(training) # on mélange les data d'entraînement\n",
    "training = np.array(training) # on met training sous forme de tableau numpy"
   ]
  },
  {
   "cell_type": "code",
   "execution_count": null,
   "metadata": {
    "colab": {
     "base_uri": "https://localhost:8080/"
    },
    "id": "UlvjFBkEDA1O",
    "outputId": "0c3e44e5-03f1-4767-84b3-8a9ac2a3d2aa"
   },
   "outputs": [],
   "source": [
    "training[0] # affichage du  premier élément du traning"
   ]
  },
  {
   "cell_type": "code",
   "execution_count": null,
   "metadata": {
    "colab": {
     "base_uri": "https://localhost:8080/"
    },
    "id": "WC-5P1QzDA1P",
    "outputId": "395b143b-4c91-41b8-dd61-748d630e0429"
   },
   "outputs": [],
   "source": [
    "# create train and test lists. X - patterns, Y - intents\n",
    "train_x = list(training[:,0]) # on crée les données avec la colonne 0 (patterns)\n",
    "train_y = list(training[:,1]) # on crée la target avec la colonne 1 (les tag)\n",
    "print(\"Training data created\")"
   ]
  },
  {
   "cell_type": "code",
   "execution_count": null,
   "metadata": {
    "colab": {
     "base_uri": "https://localhost:8080/"
    },
    "id": "re0NVwec5OTp",
    "outputId": "a3cfa1e1-4945-421b-eaf3-4602dedaee22"
   },
   "outputs": [],
   "source": [
    "model = Sequential()\n",
    "model.add(Dense(128, input_shape=(len(train_x[0]),), activation='relu'))\n",
    "model.add(Dropout(0.5))\n",
    "model.add(Dense(64, activation='relu'))\n",
    "model.add(Dropout(0.5))\n",
    "model.add(Dense(len(train_y[0]), activation='softmax'))\n",
    "\n",
    "# Compile model. Stochastic gradient descent with Nesterov accelerated gradient gives good results for this model\n",
    "sgd = SGD(lr=0.01, decay=1e-6, momentum=0.9, nesterov=True)\n",
    "model.compile(loss='categorical_crossentropy', optimizer=sgd, metrics=['accuracy'])"
   ]
  },
  {
   "cell_type": "code",
   "execution_count": null,
   "metadata": {
    "colab": {
     "base_uri": "https://localhost:8080/"
    },
    "id": "a8erFsXh5P3R",
    "outputId": "c71127f3-db44-4fe8-d56d-a422a983f97d"
   },
   "outputs": [],
   "source": [
    "model.summary()"
   ]
  },
  {
   "cell_type": "code",
   "execution_count": null,
   "metadata": {
    "colab": {
     "base_uri": "https://localhost:8080/"
    },
    "id": "HeDAToGoDA1S",
    "outputId": "53a32969-d2f3-4a74-fd94-b9da6acec0f2",
    "scrolled": true
   },
   "outputs": [],
   "source": [
    "# Create model - \n",
    "# 3 couches dense + un input\n",
    "# input avec 88 neurones puisque les données d'entrées font la taille de words\n",
    "# un neurone par mot de words\n",
    "# une couche de 128 (par exemple) et une couche de (64)\n",
    "# l'OUTPUT a autant de neurones que de classes et une fonction d'activation\n",
    "# softmax car c'est une classification multiclasse\n",
    "model = Sequential()\n",
    "model.add(Dense(128, input_shape=(len(train_x[0]),), activation='relu'))\n",
    "model.add(Dropout(0.5))\n",
    "model.add(Dense(64, activation='relu'))\n",
    "model.add(Dropout(0.5))\n",
    "model.add(Dense(len(train_y[0]), activation='softmax'))\n",
    "\n",
    "# Compile model. Stochastic gradient descent with Nesterov accelerated gradient gives good results for this model\n",
    "sgd = SGD(lr=0.01, decay=1e-6, momentum=0.9, nesterov=True)\n",
    "model.compile(loss='categorical_crossentropy', optimizer=sgd, metrics=['accuracy'])\n",
    "\n",
    "#fitting and saving the model \n",
    "hist = model.fit(np.array(train_x), np.array(train_y), epochs=200, batch_size=5, verbose=1)\n",
    "model.save('chatbot_model.h5', hist) # sauvegarde du model pour pouvoir\n",
    "# l'utiliser ailleurs sans avoir à relancer tout ce script\n",
    "\n",
    "print(\"model created\")"
   ]
  },
  {
   "cell_type": "markdown",
   "metadata": {
    "id": "CHaEukeCDA1T"
   },
   "source": [
    "# Réponse"
   ]
  },
  {
   "cell_type": "code",
   "execution_count": null,
   "metadata": {
    "id": "T3E_nd0TDA1T"
   },
   "outputs": [],
   "source": [
    "import nltk\n",
    "from nltk.stem import WordNetLemmatizer\n",
    "lemmatizer = WordNetLemmatizer()\n",
    "import pickle\n",
    "import numpy as np\n",
    "\n",
    "from tensorflow.keras.models import load_model\n",
    "model = load_model('chatbot_model.h5')\n",
    "import json\n",
    "import random\n",
    "intents = json.loads(open('../data/intents.json').read()) \n",
    "words = pickle.load(open('words.pkl','rb'))\n",
    "classes = pickle.load(open('classes.pkl','rb'))"
   ]
  },
  {
   "cell_type": "code",
   "execution_count": null,
   "metadata": {
    "id": "rAbwWGXeDA1U"
   },
   "outputs": [],
   "source": [
    "def clean_up_sentence(sentence):\n",
    "    '''\n",
    "    Nettoie une phrase en la tokenisant et lemmatisant\n",
    "    '''\n",
    "    # tokenize the pattern - split words into array\n",
    "    sentence_words = nltk.word_tokenize(sentence)\n",
    "    # stem each word - create short form for word\n",
    "    sentence_words = [lemmatizer.lemmatize(word.lower()) for word in sentence_words]\n",
    "    return sentence_words\n",
    "\n",
    "# return bag of words array: 0 or 1 for each word in the bag that exists in the sentence"
   ]
  },
  {
   "cell_type": "code",
   "execution_count": null,
   "metadata": {
    "colab": {
     "base_uri": "https://localhost:8080/"
    },
    "id": "amOO8mWfDA1V",
    "outputId": "5bf81d14-42be-4f51-87ca-7adfb5646d4d"
   },
   "outputs": [],
   "source": [
    "bag = [0]*9\n",
    "bag"
   ]
  },
  {
   "cell_type": "code",
   "execution_count": null,
   "metadata": {
    "colab": {
     "base_uri": "https://localhost:8080/"
    },
    "id": "x2vJk4XqDA1W",
    "outputId": "9c3178c7-8084-498e-d237-1440e27ee35c",
    "scrolled": true
   },
   "outputs": [],
   "source": [
    "bag[5] = 1\n",
    "bag"
   ]
  },
  {
   "cell_type": "code",
   "execution_count": null,
   "metadata": {
    "colab": {
     "base_uri": "https://localhost:8080/"
    },
    "id": "Godc0RQBDA1X",
    "outputId": "73d4468f-4252-4d0a-8e7e-136ae31cd143",
    "scrolled": true
   },
   "outputs": [],
   "source": [
    "for i, w in enumerate(words):\n",
    "    print (f\"L'indice c'est : {i} et le mot c'est : {w}\")"
   ]
  },
  {
   "cell_type": "code",
   "execution_count": null,
   "metadata": {
    "id": "EpYJrOygDA1Y"
   },
   "outputs": [],
   "source": [
    "def bow(sentence, words, show_details=True):\n",
    "    '''\n",
    "    renvoie la phrase vectorisée ex : -> [0,0,...,0] vecteur de 88\n",
    "    '''\n",
    "    # tokenize the pattern\n",
    "    sentence_words = clean_up_sentence(sentence)\n",
    "    # bag of words - matrix of N words, vocabulary matrix\n",
    "    bag = [0]*len(words)  # -> [0,0,...,0] vecteur de 88\n",
    "    for s in sentence_words: # Pour chaque mot dans la phrase\n",
    "        for i,w in enumerate(words): # pour chaque mot du dico 'words'\n",
    "            if w == s: # si le mot de ma phrase est présent dans 'words'\n",
    "                # assign 1 if current word is in the vocabulary position\n",
    "                bag[i] = 1 # on récupère l'indice de ce mot dans 'words'\n",
    "                # et on met 1 à cette position dans bag\n",
    "                if show_details: # Si on a choisit l'option de montrer les détails\n",
    "                    print (f\"found in bag: {w}\")\n",
    "            else:# TODO AMELIORATION\n",
    "                # Les mots qui n'ont pas été trouvé pourraient être récupérer pour améliorer le modèle\n",
    "                # et le réntraîner avec les mots qu'il n'a pas sû reconnaître\n",
    "                pass\n",
    "    return(np.array(bag)) # retourne le sac de mots avec des 1 à la position de \n",
    "                            #chaque mot"
   ]
  },
  {
   "cell_type": "code",
   "execution_count": null,
   "metadata": {
    "id": "1ht3nQxQ0w2W"
   },
   "outputs": [],
   "source": [
    "nlp = spacy.load(\"fr_core_news_lg\")"
   ]
  },
  {
   "cell_type": "code",
   "execution_count": null,
   "metadata": {},
   "outputs": [],
   "source": [
    "words"
   ]
  },
  {
   "cell_type": "code",
   "execution_count": null,
   "metadata": {
    "id": "PXn0573y2srg"
   },
   "outputs": [],
   "source": [
    "def bow2(sentence, words, show_details=False):\n",
    "    '''\n",
    "    renvoie la phrase vectorisée ex : -> [0,0,...,0] vecteur de 88\n",
    "    '''\n",
    "    # tokenize the pattern\n",
    "    sentence_words = clean_up_sentence(sentence)\n",
    "    # bag of words - matrix of N words, vocabulary matrix\n",
    "    bag = [0]*len(words)  # -> [0,0,...,0] vecteur de 88\n",
    "    for s in sentence_words: # Pour chaque mot dans la phrase\n",
    "        tmp_pourcent = -3000\n",
    "        suceed = False\n",
    "        for i,w in enumerate(words): # pour chaque mot du dico 'words'\n",
    "            if w == s: # si le mot de ma phrase est présent dans 'words'\n",
    "                # assign 1 if current word is in the vocabulary position\n",
    "                bag[i] = 1 # on récupère l'indice de ce mot dans 'words'\n",
    "                #Variable de succès \n",
    "                suceed=True\n",
    "                # et on met 1 à cette position dans bag\n",
    "                if show_details: # Si on a choisit l'option de montrer les détails\n",
    "                    print (f\"found in bag: {w}\")\n",
    "        #Si le mot n'a pas été trouvé on va cherché a trouvé une similarité grace à spacy et la fonction similarity\n",
    "        if suceed == False:\n",
    "              print(f\"{s} le mot n'a pas été trouvé recour à Spacy\")\n",
    "              #On stock le mot dans une variable spécial de Spacy\n",
    "              mots = nlp(s)\n",
    "              #On va parcourir chacuns des mots de notre dictionnaire\n",
    "              for a,b in enumerate(words):\n",
    "                #On stock de façon temporaire le mot en cours \n",
    "                atmp = nlp(b)\n",
    "                #On stock un pourcentage de similarité du mot en cours et le mot de chaque dictionnaire\n",
    "                pourcent = mots.similarity(atmp)\n",
    "                #On check et on ne garde que le plus haut pourcentage de similarité\n",
    "                if pourcent > tmp_pourcent:\n",
    "                  tmp_pourcent = pourcent\n",
    "                  #On stock la clé \n",
    "                  key = a\n",
    "                  #On stock la valeur cible\n",
    "                  value = b\n",
    "              #Si le pourcentage dépasse un seuil de similarity acceptable on garde le mot\n",
    "              if tmp_pourcent > 0.55:\n",
    "                bag[key] = 1\n",
    "                if show_details:\n",
    "                  print (f'{b} a été remplacer par{value} with {tmp_pourcent} %')\n",
    "              else :\n",
    "                print(f\"Le mot n'a pas été trouvé le plus proche est {value} with {tmp_pourcent} %\")\n",
    "              # TODO AMELIORATION\n",
    "                # Les mots qui n'ont pas été trouvé pourraient être récupérer pour améliorer le modèle\n",
    "                # et le réntraîner avec les mots qu'il n'a pas sû reconnaître\n",
    "                pass\n",
    "    return(np.array(bag)) # retourne le sac de mots avec des 1 à la position de \n",
    "                            #chaque mot"
   ]
  },
  {
   "cell_type": "markdown",
   "metadata": {
    "id": "KXfBEcLrDA1Z"
   },
   "source": [
    "bow renvoie ça :"
   ]
  },
  {
   "cell_type": "code",
   "execution_count": null,
   "metadata": {
    "colab": {
     "base_uri": "https://localhost:8080/"
    },
    "id": "4gYrkr9XDA1Z",
    "outputId": "81e3151a-ea59-4a0c-b804-4de28010da79"
   },
   "outputs": [],
   "source": [
    "bow(\"Salut quel éducation proposé vous chien\", words,show_details=True)"
   ]
  },
  {
   "cell_type": "code",
   "execution_count": null,
   "metadata": {
    "colab": {
     "base_uri": "https://localhost:8080/"
    },
    "id": "7NnGviqv4u59",
    "outputId": "e0ad0476-f863-4107-bd36-21329d8f56d9"
   },
   "outputs": [],
   "source": [
    "bow2(\"Salut quel éducation proposé vous chien\", words,show_details=True)"
   ]
  },
  {
   "cell_type": "code",
   "execution_count": null,
   "metadata": {
    "colab": {
     "base_uri": "https://localhost:8080/"
    },
    "id": "_WKeAo2zDA1a",
    "outputId": "5c03b72a-99a2-42f6-e588-924cec89ba05"
   },
   "outputs": [],
   "source": [
    "test = model.predict(np.array([bow(\"Bonnjour!\", words,show_details=True)]))\n",
    "test"
   ]
  },
  {
   "cell_type": "code",
   "execution_count": null,
   "metadata": {
    "colab": {
     "base_uri": "https://localhost:8080/"
    },
    "id": "7b0btWwMAoH3",
    "outputId": "1078abc5-a114-440e-d9be-89ca21a5859a"
   },
   "outputs": [],
   "source": [
    "test = model.predict(np.array([bow2(\"Bonnjour\", words,show_details=True)]))\n",
    "test"
   ]
  },
  {
   "cell_type": "code",
   "execution_count": null,
   "metadata": {
    "colab": {
     "base_uri": "https://localhost:8080/"
    },
    "id": "Xp0OHOxODA1b",
    "outputId": "ff875ac0-fd61-4133-d757-5a53c30d7645",
    "scrolled": true
   },
   "outputs": [],
   "source": [
    "len(model.predict(np.array([bow(\"Salut!\", words,show_details=False)]))[0])"
   ]
  },
  {
   "cell_type": "code",
   "execution_count": null,
   "metadata": {
    "id": "gtQvUgtuDA1b"
   },
   "outputs": [],
   "source": [
    "results = [[i,r] for i,r in enumerate(test[0]) if r>0.000005]"
   ]
  },
  {
   "cell_type": "code",
   "execution_count": null,
   "metadata": {
    "colab": {
     "base_uri": "https://localhost:8080/"
    },
    "id": "Xk0y9uxhaSQE",
    "outputId": "1c0a4b0f-891d-4011-c76d-59632b544e4d"
   },
   "outputs": [],
   "source": [
    "results"
   ]
  },
  {
   "cell_type": "code",
   "execution_count": null,
   "metadata": {
    "colab": {
     "base_uri": "https://localhost:8080/"
    },
    "id": "hgmeH57iDA1c",
    "outputId": "55c3b61c-640c-4bf3-cbed-d699247d91fa"
   },
   "outputs": [],
   "source": [
    "result = model.predict(np.array([bow('bonjour',words,show_details=False)]))\n",
    "vmax = result.max()\n",
    "np.where(result == vmax)"
   ]
  },
  {
   "cell_type": "code",
   "execution_count": null,
   "metadata": {
    "id": "Kb6-GfckDA1d"
   },
   "outputs": [],
   "source": [
    "def predict_class(sentence, model):\n",
    "    # filter out predictions below a threshold\n",
    "    p = bow(sentence, words,show_details=False)\n",
    "    res = model.predict(np.array([p]))[0] # Récupère les probabilités des 9 tags\n",
    "    ERROR_THRESHOLD = 0.25\n",
    "\n",
    "    results = [[i,r] for i,r in enumerate(res) if r>ERROR_THRESHOLD ]\n",
    "    # results est les  proba qui sont supérieures au seuil \n",
    "    \n",
    "    # sort by strength of probability\n",
    "    results.sort(key=lambda x: x[1], reverse=True) \n",
    "    # triés du plus grand au plus petit\n",
    "    return_list = []\n",
    "    for r in results:\n",
    "        return_list.append({\"intent\": classes[r[0]], \"probability\": str(r[1])})\n",
    "    return return_list"
   ]
  },
  {
   "cell_type": "code",
   "execution_count": null,
   "metadata": {
    "id": "c1cPl4DHbp7c"
   },
   "outputs": [],
   "source": [
    "def predict_class_boost(sentence, model):\n",
    "    # filter out predictions below a threshold\n",
    "    p = bow2(sentence, words,show_details=True)\n",
    "    res = model.predict(np.array([p]))[0] # Récupère les probabilités des 9 tags\n",
    "    ERROR_THRESHOLD = 0.25\n",
    "\n",
    "    results = [[i,r] for i,r in enumerate(res) if r>ERROR_THRESHOLD ]\n",
    "    # results est les  proba qui sont supérieures au seuil \n",
    "    \n",
    "    # sort by strength of probability\n",
    "    results.sort(key=lambda x: x[1], reverse=True) \n",
    "    # triés du plus grand au plus petit\n",
    "    return_list = []\n",
    "    for r in results:\n",
    "        return_list.append({\"intent\": classes[r[0]], \"probability\": str(r[1])})\n",
    "    return return_list"
   ]
  },
  {
   "cell_type": "markdown",
   "metadata": {
    "id": "w2j3Are8MAoN"
   },
   "source": [
    "# Test Prédiction"
   ]
  },
  {
   "cell_type": "code",
   "execution_count": null,
   "metadata": {
    "colab": {
     "base_uri": "https://localhost:8080/"
    },
    "id": "l4sqmABiDA1e",
    "outputId": "e0f82d76-4f45-4157-a6f4-0bd4e1b30937",
    "scrolled": false
   },
   "outputs": [],
   "source": [
    "predict_class('distenciel', model)"
   ]
  },
  {
   "cell_type": "code",
   "execution_count": null,
   "metadata": {
    "colab": {
     "base_uri": "https://localhost:8080/",
     "height": 35
    },
    "id": "EDvEZRoGDA1f",
    "outputId": "5944ec6c-fbf2-4bcf-ad27-a5c7f09aae0e"
   },
   "outputs": [],
   "source": [
    "classes[4]"
   ]
  },
  {
   "cell_type": "markdown",
   "metadata": {
    "id": "jXrIZ-ywRfdh"
   },
   "source": [
    "# Création d'un Dataset de test\n",
    "Pour comparer les résultats du modèle \"pourri\" avec le modèle contenant Spacy"
   ]
  },
  {
   "cell_type": "code",
   "execution_count": null,
   "metadata": {
    "colab": {
     "base_uri": "https://localhost:8080/",
     "height": 708
    },
    "id": "KUYMBVstRdbn",
    "outputId": "c03b3daf-d0f6-4f89-cf9d-e8c5d61dcfc2"
   },
   "outputs": [],
   "source": [
    "df_test = pd.read_csv(\"/content/drive/Shareddrives/P#13_Dev IA - Ecole IA Microsoft (DRIVE APPRENANTS)/P#13_ALTERNANCE/ChatBot Simplon C14/Test_model.csv\")\n",
    "df_test"
   ]
  },
  {
   "cell_type": "code",
   "execution_count": null,
   "metadata": {
    "id": "po-SIb_VWIQB"
   },
   "outputs": [],
   "source": [
    "result = []\n",
    "for i in df_test.test:\n",
    "  tmp = predict_class(i, model)\n",
    "  result.append(tmp)\n",
    "\n",
    "intent = []\n",
    "for i,z in enumerate(result):\n",
    "  intent.append(result[i][0]['intent'])\n",
    "df_test['result_bow_classique']= intent"
   ]
  },
  {
   "cell_type": "code",
   "execution_count": null,
   "metadata": {
    "colab": {
     "base_uri": "https://localhost:8080/"
    },
    "id": "mbYBuBP6W7_h",
    "outputId": "1a8e0ca6-6394-4c18-eb4d-cba475e7d961"
   },
   "outputs": [],
   "source": [
    "result = []\n",
    "for i in df_test.test:\n",
    "  tmp = predict_class_boost(i, model)\n",
    "  result.append(tmp)\n",
    "\n",
    "intent = []\n",
    "for i,z in enumerate(result):\n",
    "  intent.append(result[i][0]['intent'])\n",
    "df_test['result_bow_boosted']= intent"
   ]
  },
  {
   "cell_type": "code",
   "execution_count": null,
   "metadata": {
    "colab": {
     "base_uri": "https://localhost:8080/",
     "height": 864
    },
    "id": "EUJIpvhHbfae",
    "outputId": "77beabd6-6484-4e1c-8ca2-2041d91891be"
   },
   "outputs": [],
   "source": [
    "df_test"
   ]
  },
  {
   "cell_type": "markdown",
   "metadata": {
    "id": "TG59wZiULRsH"
   },
   "source": [
    "### GUI"
   ]
  },
  {
   "cell_type": "code",
   "execution_count": null,
   "metadata": {
    "id": "aQo0IrJ6DA1g"
   },
   "outputs": [],
   "source": [
    "def getResponse(ints, intents_json):\n",
    "    tag = ints[0]['intent']\n",
    "    list_of_intents = intents_json['intents']\n",
    "    for i in list_of_intents:\n",
    "        if(i['tag']== tag):\n",
    "            result = random.choice(i['responses'])\n",
    "            break\n",
    "    return result"
   ]
  },
  {
   "cell_type": "code",
   "execution_count": null,
   "metadata": {
    "id": "UJ0C612ODA1h"
   },
   "outputs": [],
   "source": [
    "def chatbot_response(msg):\n",
    "    ints = predict_class(msg, model)\n",
    "    res = getResponse(ints, intents)\n",
    "    return res"
   ]
  },
  {
   "cell_type": "code",
   "execution_count": null,
   "metadata": {
    "id": "UCeXPWJhDA1h"
   },
   "outputs": [],
   "source": [
    "#Creating GUI with tkinter\n",
    "import tkinter # librairie d'interface graphique\n",
    "from tkinter import *"
   ]
  },
  {
   "cell_type": "code",
   "execution_count": null,
   "metadata": {
    "colab": {
     "base_uri": "https://localhost:8080/",
     "height": 391
    },
    "id": "7aOrOrE5DA1i",
    "outputId": "cdb1b7aa-0931-4452-baae-87c0fb821751"
   },
   "outputs": [],
   "source": [
    "def send():\n",
    "    msg = EntryBox.get(\"1.0\",'end-1c').strip()\n",
    "    EntryBox.delete(\"0.0\",END)\n",
    "\n",
    "    if msg != '':\n",
    "        ChatLog.config(state=NORMAL)\n",
    "        ChatLog.insert(END, \"You: \" + msg + '\\n\\n')\n",
    "        ChatLog.config(foreground=\"#442265\", font=(\"Verdana\", 12 ))\n",
    "    \n",
    "        res = chatbot_response(msg)\n",
    "        ChatLog.insert(END, \"Bot: \" + res + '\\n\\n')\n",
    "            \n",
    "        ChatLog.config(state=DISABLED)\n",
    "        ChatLog.yview(END)\n",
    " \n",
    "\n",
    "base = Tk()\n",
    "base.title(\"Hello\")\n",
    "base.geometry(\"400x500\")\n",
    "base.resizable(width=FALSE, height=FALSE)\n",
    "\n",
    "#Create Chat window\n",
    "ChatLog = Text(base, bd=0, bg=\"white\", height=\"8\", width=\"50\", font=\"Arial\",)\n",
    "\n",
    "ChatLog.config(state=DISABLED)\n",
    "\n",
    "#Bind scrollbar to Chat window\n",
    "scrollbar = Scrollbar(base, command=ChatLog.yview, cursor=\"heart\")\n",
    "ChatLog['yscrollcommand'] = scrollbar.set\n",
    "\n",
    "#Create Button to send message\n",
    "SendButton = Button(base, font=(\"Verdana\",12,'bold'), text=\"Send\", width=\"12\", height=5,\n",
    "                    bd=0, bg=\"#32de97\", activebackground=\"#3c9d9b\",fg='#ffffff',\n",
    "                    command= send )\n",
    "\n",
    "#Create the box to enter message\n",
    "EntryBox = Text(base, bd=0, bg=\"white\",width=\"29\", height=\"5\", font=\"Arial\")\n",
    "#EntryBox.bind(\"<Return>\", send)\n",
    "\n",
    "\n",
    "#Place all components on the screen\n",
    "scrollbar.place(x=376,y=6, height=386)\n",
    "ChatLog.place(x=6,y=6, height=386, width=370)\n",
    "EntryBox.place(x=128, y=401, height=90, width=265)\n",
    "SendButton.place(x=6, y=401, height=90)\n",
    "\n",
    "base.mainloop()"
   ]
  }
 ],
 "metadata": {
  "accelerator": "GPU",
  "colab": {
   "collapsed_sections": [],
   "name": "modele_pourri.ipynb",
   "provenance": []
  },
  "kernelspec": {
   "display_name": "Python 3",
   "language": "python",
   "name": "python3"
  },
  "language_info": {
   "codemirror_mode": {
    "name": "ipython",
    "version": 3
   },
   "file_extension": ".py",
   "mimetype": "text/x-python",
   "name": "python",
   "nbconvert_exporter": "python",
   "pygments_lexer": "ipython3",
   "version": "3.8.3"
  }
 },
 "nbformat": 4,
 "nbformat_minor": 1
}
